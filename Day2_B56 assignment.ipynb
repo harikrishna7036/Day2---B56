{
 "cells": [
  {
   "cell_type": "code",
   "execution_count": 12,
   "id": "d467d306",
   "metadata": {},
   "outputs": [
    {
     "name": "stdout",
     "output_type": "stream",
     "text": [
      "Harikrishna\n"
     ]
    }
   ],
   "source": [
    "# declaring variable in python without errors \n",
    "firstname  = \"Harikrishna\"\n",
    "print(firstname)"
   ]
  },
  {
   "cell_type": "code",
   "execution_count": 13,
   "id": "6cac64d6",
   "metadata": {},
   "outputs": [
    {
     "name": "stdout",
     "output_type": "stream",
     "text": [
      "Vijay\n"
     ]
    }
   ],
   "source": [
    "name1 = \"Vijay\"\n",
    "print(name1)"
   ]
  },
  {
   "cell_type": "code",
   "execution_count": 14,
   "id": "d8566e1a",
   "metadata": {},
   "outputs": [],
   "source": [
    "#-----> this is a comment line"
   ]
  },
  {
   "cell_type": "code",
   "execution_count": null,
   "id": "c4a0605a",
   "metadata": {},
   "outputs": [],
   "source": [
    "# declaring string using quotes"
   ]
  },
  {
   "cell_type": "code",
   "execution_count": 15,
   "id": "2801dcbf",
   "metadata": {},
   "outputs": [
    {
     "name": "stdout",
     "output_type": "stream",
     "text": [
      "vijay\n"
     ]
    }
   ],
   "source": [
    "name1 = 'harikrishna'\n",
    "print(name)"
   ]
  },
  {
   "cell_type": "code",
   "execution_count": 16,
   "id": "2a917ed6",
   "metadata": {},
   "outputs": [
    {
     "name": "stdout",
     "output_type": "stream",
     "text": [
      "Sam\n"
     ]
    }
   ],
   "source": [
    "first_name = \"Sam\"\n",
    "print(first_name)"
   ]
  },
  {
   "cell_type": "code",
   "execution_count": 17,
   "id": "9d3330dd",
   "metadata": {},
   "outputs": [
    {
     "name": "stdout",
     "output_type": "stream",
     "text": [
      "Rock\n"
     ]
    }
   ],
   "source": [
    "fullname = \"\"\"Rock\"\"\"\n",
    "print(fullname)"
   ]
  },
  {
   "cell_type": "code",
   "execution_count": 18,
   "id": "8a31ec31",
   "metadata": {},
   "outputs": [],
   "source": [
    "# data types"
   ]
  },
  {
   "cell_type": "code",
   "execution_count": null,
   "id": "2e3ffb5b",
   "metadata": {},
   "outputs": [],
   "source": [
    "1 . String\n",
    "2 . list \n",
    "3 . tuple \n",
    "4 . dictinaries \n",
    "5 . number integer and floats(decimals)"
   ]
  }
 ],
 "metadata": {
  "kernelspec": {
   "display_name": "Python 3 (ipykernel)",
   "language": "python",
   "name": "python3"
  },
  "language_info": {
   "codemirror_mode": {
    "name": "ipython",
    "version": 3
   },
   "file_extension": ".py",
   "mimetype": "text/x-python",
   "name": "python",
   "nbconvert_exporter": "python",
   "pygments_lexer": "ipython3",
   "version": "3.9.7"
  }
 },
 "nbformat": 4,
 "nbformat_minor": 5
}
